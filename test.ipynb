{
 "cells": [
  {
   "cell_type": "code",
   "execution_count": 3,
   "metadata": {},
   "outputs": [
    {
     "name": "stdout",
     "output_type": "stream",
     "text": [
      "RDKit version:  2023.09.4\n"
     ]
    }
   ],
   "source": [
    "import sys\n",
    "from rdkit import rdBase, Chem, Geometry\n",
    "from rdkit.Chem import AllChem, Draw\n",
    "print('RDKit version: ',rdBase.rdkitVersion)\n",
    "\n",
    "def smi_tokenizer(smi):\n",
    "    \"\"\"\n",
    "    Tokenize a SMILES molecule or reaction\n",
    "    \"\"\"\n",
    "    import re\n",
    "    pattern =  \"(\\[[^\\]]+]|Br?|Cl?|N|O|S|P|F|I|b|c|n|o|s|p|\\(|\\)|\\.|=|#|-|\\+|\\\\\\\\|\\/|:|~|@|\\?|>|\\*|\\$|\\%[0-9]{2}|[0-9])\"\n",
    "    regex = re.compile(pattern)\n",
    "    tokens = [token for token in regex.findall(smi)]\n",
    "    assert smi == ''.join(tokens)\n",
    "    return tokens\n",
    "\n",
    "def smiles_to_files(smiles, elements_filename='elements.txt', connections_filename='connections.txt', alt_elements_filename='two_d_elements.txt'):\n",
    "    mol = Chem.MolFromSmiles(smiles)\n",
    "    if not mol:\n",
    "        raise ValueError(\"Invalid SMILES string\")\n",
    "    smi_explicit = Chem.MolToSmiles(mol, allBondsExplicit=True)\n",
    "    print(smi_tokenizer(smi_explicit))\n",
    "    print(smi_explicit)"
   ]
  },
  {
   "cell_type": "code",
   "execution_count": 8,
   "metadata": {},
   "outputs": [
    {
     "name": "stdout",
     "output_type": "stream",
     "text": [
      "['Cl', '-', 'c', '1', ':', 'c', ':', 'c', ':', 'c', ':', 'c', ':', 'c', ':', '1']\n",
      "Cl-c1:c:c:c:c:c:1\n"
     ]
    }
   ],
   "source": [
    "smiles_to_files(\"C1=CC=C(C=C1)Cl\")"
   ]
  },
  {
   "cell_type": "code",
   "execution_count": 9,
   "metadata": {},
   "outputs": [
    {
     "name": "stdout",
     "output_type": "stream",
     "text": [
      "['O', '=', 'C', '(', '-', '[O-]', ')', '-', 'C', '-', 'c', '1', ':', 'c', ':', 'c', ':', '[nH]', ':', 'c', ':', '1', '.', '[K+]']\n",
      "O=C(-[O-])-C-c1:c:c:[nH]:c:1.[K+]\n"
     ]
    }
   ],
   "source": [
    "smiles_to_files(\"[K+].[O-]C(=O)Cc1cc[nH]c1\")\n"
   ]
  },
  {
   "cell_type": "code",
   "execution_count": 10,
   "metadata": {},
   "outputs": [
    {
     "name": "stdout",
     "output_type": "stream",
     "text": [
      "['C', '#', 'C']\n",
      "C#C\n"
     ]
    }
   ],
   "source": [
    "smiles_to_files(\"C#C\")"
   ]
  },
  {
   "cell_type": "code",
   "execution_count": 17,
   "metadata": {},
   "outputs": [
    {
     "data": {
      "image/png": "[encoded data removed]",
      "text/plain": [
       "<rdkit.Chem.rdchem.Mol at 0x7f9b59b961f0>"
      ]
     },
     "execution_count": 17,
     "metadata": {},
     "output_type": "execute_result"
    }
   ],
   "source": [
    "from rdkit.Chem.Draw import IPythonConsole\n",
    "IPythonConsole.drawOptions.addAtomIndices = True\n",
    "IPythonConsole.drawOptions.addBondIndices = False\n",
    "\"C1=CC=C(C=C1)C2=CC=CC=C2\"\n",
    "mol = Chem.MolFromSmiles(\"C1=CC=C(C=C1)C2=CC=CC=C2\")\n",
    "mol\n",
    "\"C0=C1C2=C3-C4...C4-C3=C10C11\""
   ]
  },
  {
   "cell_type": "code",
   "execution_count": 18,
   "metadata": {},
   "outputs": [
    {
     "name": "stdout",
     "output_type": "stream",
     "text": [
      "0 C\n",
      "1 C\n",
      "2 C\n",
      "3 C\n",
      "4 C\n",
      "5 C\n",
      "6 C\n",
      "7 C\n",
      "8 C\n",
      "9 C\n",
      "10 C\n",
      "11 C\n"
     ]
    }
   ],
   "source": [
    "for atom in mol.GetAtoms():\n",
    "    print(atom.GetIdx(), atom.GetSymbol())"
   ]
  },
  {
   "cell_type": "code",
   "execution_count": null,
   "metadata": {},
   "outputs": [],
   "source": []
  }
 ],
 "metadata": {
  "kernelspec": {
   "display_name": ".venv",
   "language": "python",
   "name": "python3"
  },
  "language_info": {
   "codemirror_mode": {
    "name": "ipython",
    "version": 3
   },
   "file_extension": ".py",
   "mimetype": "text/x-python",
   "name": "python",
   "nbconvert_exporter": "python",
   "pygments_lexer": "ipython3",
   "version": "3.11.7"
  }
 },
 "nbformat": 4,
 "nbformat_minor": 2
}
